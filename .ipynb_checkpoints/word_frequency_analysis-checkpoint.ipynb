{
 "cells": [
  {
   "cell_type": "code",
   "execution_count": null,
   "metadata": {
    "_cell_guid": "b1076dfc-b9ad-4769-8c92-a6c4dae69d19",
    "_uuid": "8f2839f25d086af736a60e9eeb907d3b93b6e0e5",
    "collapsed": true
   },
   "outputs": [],
   "source": [
    "# This Python 3 environment comes with many helpful analytics libraries installed\n",
    "# It is defined by the kaggle/python docker image: https://github.com/kaggle/docker-python\n",
    "# For example, here's several helpful packages to load in \n",
    "\n",
    "import numpy as np # linear algebra\n",
    "import pandas as pd # data processing, CSV file I/O (e.g. pd.read_csv)\n",
    "import matplotlib.pyplot as plt\n",
    "import seaborn as sns\n",
    "sns.set(color_codes=True)\n",
    "\n",
    "import re\n",
    "\n",
    "# Input data files are available in the \"../input/\" directory.\n",
    "# For example, running this (by clicking run or pressing Shift+Enter) will list the files in the input directory\n",
    "\n",
    "import os\n",
    "print(os.listdir(\"../input\"))\n",
    "\n",
    "# Any results you write to the current directory are saved as output."
   ]
  },
  {
   "cell_type": "code",
   "execution_count": null,
   "metadata": {
    "_cell_guid": "79c7e3d0-c299-4dcb-8224-4455121ee9b0",
    "_uuid": "d629ff2d2480ee46fbb7e2d37f6b5fab8052498a",
    "collapsed": true
   },
   "outputs": [],
   "source": [
    "data1 = pd.read_csv('../input/Lyrics1.csv')\n",
    "data2 = pd.read_csv('../input/Lyrics2.csv')"
   ]
  },
  {
   "cell_type": "code",
   "execution_count": null,
   "metadata": {
    "_uuid": "72d711e2ebe36f87a6a2c2048f15b44f2aa8fb10",
    "collapsed": true
   },
   "outputs": [],
   "source": [
    "data_whole = data1.append(data2)"
   ]
  },
  {
   "cell_type": "code",
   "execution_count": null,
   "metadata": {
    "_uuid": "27e65cc507f8d8f11dfdde2fc9c0b7cfb9467c4c",
    "collapsed": true
   },
   "outputs": [],
   "source": [
    "data_whole.band[]"
   ]
  },
  {
   "cell_type": "code",
   "execution_count": null,
   "metadata": {
    "_uuid": "564ac689d3524fc09350ac472729c5a94021db76",
    "collapsed": true
   },
   "outputs": [],
   "source": [
    "artists = ['Keith Urban','Gavin DeGraw','Dierks Bentley','Eric Church','Zac Brown Band',\n",
    "           'The Band Perry','Sam Hunt','Shania Twain','Tim McGraw','Garth Brooks',\n",
    "          'Jason Aldean','Brad Paisley','Thomas Rhett', 'Toby Keith', 'Florida Georgia Line',\n",
    "          'Tyler Farr', 'Midland', 'Blake Shelton','Carrie Underwood']"
   ]
  },
  {
   "cell_type": "code",
   "execution_count": null,
   "metadata": {
    "_uuid": "ad5783c45c812c8450c5d48c0499763e2bd4569e",
    "collapsed": true
   },
   "outputs": [],
   "source": [
    "countrydata = data_whole.loc[data_whole['Band'].isin(artists)]"
   ]
  },
  {
   "cell_type": "code",
   "execution_count": null,
   "metadata": {
    "_uuid": "c0ac4d52b99cfbfcd8db959e1d3272342aa3ef1a",
    "collapsed": true
   },
   "outputs": [],
   "source": [
    "countrydata.loc[:,'lyric'] = countrydata['Lyrics'].map(lambda x: re.sub(r'\\W+', \" \", x)).str.lower()\n",
    "\n",
    "#df1.loc[:,'f'] = p.Series(np.random.randn(sLength), index=df1.index)"
   ]
  },
  {
   "cell_type": "code",
   "execution_count": null,
   "metadata": {
    "_uuid": "7ddada76c8def71be4b8e8f5b8f4557030da6537",
    "collapsed": true
   },
   "outputs": [],
   "source": [
    "countrydata.head()"
   ]
  },
  {
   "cell_type": "code",
   "execution_count": null,
   "metadata": {
    "_uuid": "3f65b40b03abf616989bf719de4bd66275e0a388",
    "collapsed": true
   },
   "outputs": [],
   "source": [
    "'''\n",
    "noun_df = pd.DataFrame(columns=['Artist','SongName','Lyrics'])\n",
    "i = 0\n",
    "for index, row in df.iterrows():\n",
    "    text = row['Lyrics']\n",
    "    tokens = nltk.word_tokenize(text)\n",
    "    tagged = nltk.pos_tag(tokens)\n",
    "    nouns = [word for word,pos in tagged \\\n",
    "             if (pos == 'NN' or pos == 'NNP' or pos == 'NNS' or pos == 'NNPS')]\n",
    "    downcased = [x.lower() for x in nouns]\n",
    "    noun_df.loc[i] = [row['Artist'],row['SongName'],' '.join(downcased)]\n",
    "    i = i + 1\n",
    "'''"
   ]
  }
 ],
 "metadata": {
  "kernelspec": {
   "display_name": "Python 3",
   "language": "python",
   "name": "python3"
  },
  "language_info": {
   "codemirror_mode": {
    "name": "ipython",
    "version": 3
   },
   "file_extension": ".py",
   "mimetype": "text/x-python",
   "name": "python",
   "nbconvert_exporter": "python",
   "pygments_lexer": "ipython3",
   "version": "3.6.3"
  }
 },
 "nbformat": 4,
 "nbformat_minor": 2
}
